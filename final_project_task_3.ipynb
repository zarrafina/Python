{
 "cells": [
  {
   "cell_type": "markdown",
   "metadata": {},
   "source": [
    "Преобразовала айдишник пользователя и соответствующую группу в словарь, где айди пользователя - значение, а группа ключ. Таким образом имеются уникальные комбинации айди пользователя - группа. Точно также сделала с дополнительным файлом. Затем создала функцию, которая добаляет новые айди и их группу в первый словарь, если они там отсутствуют. Далее преобразовала словари в датафреймы для удобства в дальнейшей работе. "
   ]
  },
  {
   "cell_type": "code",
   "execution_count": 31,
   "metadata": {},
   "outputs": [],
   "source": [
    "def metrics(new_ids):\n",
    "    group_ids = groups.set_index('id').T.to_dict('list')\n",
    "    group_ids_add = pd.read_csv(new_ids).set_index('id').T.to_dict('list')\n",
    "\n",
    "    for id in group_ids_add.keys():\n",
    "        if id not in group_ids.keys():\n",
    "            group_ids.update(group_ids_add)\n",
    "            group_ids_df = pd.DataFrame(group_ids.items(), columns=['id', 'grp'])\n",
    "            group_ids_df = group_ids_df.explode('grp')\n",
    "\n",
    "    is_paid_with_group = group_ids_df.merge(checks, how='right',  right_on='student_id',left_on='id')\n",
    "    is_paid_with_group = is_paid_with_group.drop(columns = 'student_id')\n",
    "    is_paid_with_group ['rev'] = is_paid_with_group.rev.astype(float)\n",
    "    active_studs_with_group = active_studs.merge(group_ids_df, how='left', left_on='student_id',right_on='id')\n",
    "    active_studs_with_group = active_studs_with_group.drop(columns = 'id')\n",
    "    active_studs_with_checks = active_studs_with_group.merge(checks, how='left', on='student_id').fillna(0)\n",
    "\n",
    "    # Расчет метрик\n",
    "    \n",
    "    ARPU_add = active_studs_with_checks.groupby(['grp'], as_index = False).agg({'rev':'mean'})\n",
    "    ARPPU_add = is_paid_with_group.groupby(['grp'], as_index = False).agg({'rev':'mean'})\n",
    "    CR_add_1 = is_paid_with_group.groupby(['grp'], as_index = False).agg({'id':'count'})\n",
    "    CR_add_2 = active_studs_with_checks.groupby(['grp'], as_index = False).agg({'student_id':'count'})\n",
    "    CR_add = CR_add_1.merge(CR_add_2, how='left', on='grp')\n",
    "    CR_add ['CR'] = CR_add.id * 100 / CR_add.student_id\n",
    "    all_metrics = CR_add.merge(ARPPU_add, how = 'left', on = 'grp')\n",
    "    all_metrics = all_metrics.rename(columns = {'rev':'ARPPU'})\n",
    "    all_metrics = all_metrics.merge(ARPU_add, how = 'left', on = 'grp')\n",
    "    all_metrics = all_metrics.rename(columns = {'rev':'ARPU'})\n",
    "    all_metrics = all_metrics.drop(columns = ['id','student_id'])\n",
    "    \n",
    "    # Построение графиков\n",
    "    \n",
    "    fig, axs = plt.subplots(1, 3, figsize = (20, 10))\n",
    "    \n",
    "    ax = sns.barplot(ax = axs[0], x = 'grp', y = 'CR', data = all_metrics)\n",
    "    bx = sns.barplot(ax = axs[1], x = 'grp', y = 'ARPU', data = all_metrics)\n",
    "    cx = sns.barplot(ax = axs[2], x = 'grp', y = 'ARPPU', data = all_metrics)\n",
    "    \n",
    "    return all_metrics, ax, bx, cx"
   ]
  },
  {
   "cell_type": "code",
   "execution_count": 32,
   "metadata": {},
   "outputs": [],
   "source": [
    "# Здесь нужно будет подгружать директорию файла с новыми пользователями\n",
    "\n",
    "path_to_file = '/mnt/HC_Volume_18315164/home-jupyter/jupyter-z-baranchieva/untitled_folder/final_project/Проект_2_group_add.csv'"
   ]
  },
  {
   "cell_type": "code",
   "execution_count": 33,
   "metadata": {},
   "outputs": [
    {
     "data": {
      "text/plain": [
       "(  grp        CR        ARPPU       ARPU\n",
       " 0   A  6.970684   860.710280  47.439739\n",
       " 1   B  6.374209  1106.997699  57.864567,\n",
       " <matplotlib.axes._subplots.AxesSubplot at 0x7f1d7af85be0>,\n",
       " <matplotlib.axes._subplots.AxesSubplot at 0x7f1d80041160>,\n",
       " <matplotlib.axes._subplots.AxesSubplot at 0x7f1d78d10a20>)"
      ]
     },
     "execution_count": 33,
     "metadata": {},
     "output_type": "execute_result"
    },
    {
     "data": {
      "image/png": "[encoded data removed]",
      "text/plain": [
       "<Figure size 1440x720 with 3 Axes>"
      ]
     },
     "metadata": {
      "needs_background": "light"
     },
     "output_type": "display_data"
    }
   ],
   "source": [
    "metrics(path_to_file)"
   ]
  }
 ],
 "metadata": {
  "kernelspec": {
   "display_name": "Python 3",
   "language": "python",
   "name": "python3"
  },
  "language_info": {
   "codemirror_mode": {
    "name": "ipython",
    "version": 3
   },
   "file_extension": ".py",
   "mimetype": "text/x-python",
   "name": "python",
   "nbconvert_exporter": "python",
   "pygments_lexer": "ipython3",
   "version": "3.7.3"
  }
 },
 "nbformat": 4,
 "nbformat_minor": 4
}
